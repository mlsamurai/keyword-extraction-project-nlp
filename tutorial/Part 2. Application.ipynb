{
 "cells": [
  {
   "cell_type": "markdown",
   "id": "a4e2aea1-eead-4d45-a83d-0516ca03e3f9",
   "metadata": {},
   "source": [
    "Введение, что собираемся делать"
   ]
  },
  {
   "cell_type": "markdown",
   "id": "547c1bc2-256b-4f6d-9045-689af43cd208",
   "metadata": {},
   "source": [
    "## Environment Set Up\n",
    "\n",
    "Для того, чтобы создать работающее приложение, нам понадобится сначала создать окружение и установить все необходимое. Мы будем использовать conda. Для того, чтобы справиться с задачей, нам понадобится python, nltk, Flask, keyBert, Bootstrap и библиотеки для обработки pdf и других текстовых файлов. Вы можете установить окружение из .yml файла."
   ]
  },
  {
   "cell_type": "code",
   "execution_count": null,
   "id": "f4a774f9-417d-40ee-a592-8f00668dfc06",
   "metadata": {},
   "outputs": [],
   "source": [
    "!conda env create -f environment.yml\n",
    "!conda activate nlp"
   ]
  },
  {
   "cell_type": "markdown",
   "id": "4f4df8b9-a04f-4d44-b15a-25a7c8275112",
   "metadata": {},
   "source": [
    "## Algorithm "
   ]
  },
  {
   "cell_type": "code",
   "execution_count": null,
   "id": "76e41f90-30cc-419f-bcc9-afac81fd389b",
   "metadata": {},
   "outputs": [],
   "source": []
  },
  {
   "cell_type": "markdown",
   "id": "ca681e32-1c19-4981-9f76-aeafbe0edefa",
   "metadata": {},
   "source": [
    "## Flask"
   ]
  },
  {
   "cell_type": "code",
   "execution_count": null,
   "id": "1cd66ab7-5c68-4050-abcd-db8149fec972",
   "metadata": {},
   "outputs": [],
   "source": []
  },
  {
   "cell_type": "markdown",
   "id": "660b7a02-3eae-425d-9e68-b030fdb9ae47",
   "metadata": {},
   "source": [
    "## Bootstrap\n",
    "\n",
    "https://getbootstrap.com/docs/5.3/examples/"
   ]
  },
  {
   "cell_type": "code",
   "execution_count": null,
   "id": "938577bc-b58f-4fcf-96e8-c53bc4e29c59",
   "metadata": {},
   "outputs": [],
   "source": []
  },
  {
   "cell_type": "markdown",
   "id": "4cb8d071-a7e4-42ed-9a20-c1e13009b2d8",
   "metadata": {},
   "source": [
    "## Data Preprocessing"
   ]
  },
  {
   "cell_type": "code",
   "execution_count": null,
   "id": "5f6b4805-0569-498d-82f8-7bb91e8efac7",
   "metadata": {},
   "outputs": [],
   "source": []
  },
  {
   "cell_type": "code",
   "execution_count": null,
   "id": "c983de54-ac0b-4d5a-8a2f-66e478677c2b",
   "metadata": {},
   "outputs": [],
   "source": []
  }
 ],
 "metadata": {
  "kernelspec": {
   "display_name": "Python 3 (ipykernel)",
   "language": "python",
   "name": "python3"
  },
  "language_info": {
   "codemirror_mode": {
    "name": "ipython",
    "version": 3
   },
   "file_extension": ".py",
   "mimetype": "text/x-python",
   "name": "python",
   "nbconvert_exporter": "python",
   "pygments_lexer": "ipython3",
   "version": "3.11.7"
  }
 },
 "nbformat": 4,
 "nbformat_minor": 5
}
